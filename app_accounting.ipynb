{
 "cells": [
  {
   "cell_type": "code",
   "execution_count": 1,
   "id": "ff2764b3",
   "metadata": {},
   "outputs": [],
   "source": [
    "import os\n",
    "import glob\n",
    "import numpy as np\n",
    "import pandas as pd\n",
    "import pickle"
   ]
  },
  {
   "cell_type": "code",
   "execution_count": 44,
   "id": "f0b20e8d",
   "metadata": {},
   "outputs": [],
   "source": [
    "outputDir = \"appTableProduction/\"\n",
    "completeAppList = []\n",
    "skippedAppList = []\n",
    "\n",
    "with os.scandir(outputDir) as it:\n",
    "    for entry in it:\n",
    "        if entry.is_dir():\n",
    "            ff = glob.glob(outputDir + entry.name + \"/imageData*sector*.pickle\")\n",
    "            if len(ff) > 0:\n",
    "                for f in ff:\n",
    "                    toiNum = float(f.split(\"/\")[2].split(\"_\")[2])\n",
    "                    if (toiNum in completeAppList) | (toiNum in skippedAppList):\n",
    "                        continue\n",
    "                    if os.path.exists(outputDir + entry.name + \"/TOI_\" + str(toiNum) + \"_compareData.pickle\"):\n",
    "                        completeAppList.append(toiNum)\n",
    "                    else:\n",
    "                        skippedAppList.append(toiNum)\n"
   ]
  },
  {
   "cell_type": "code",
   "execution_count": 45,
   "id": "71679efb",
   "metadata": {},
   "outputs": [
    {
     "data": {
      "text/plain": [
       "3859"
      ]
     },
     "execution_count": 45,
     "metadata": {},
     "output_type": "execute_result"
    }
   ],
   "source": [
    "len(completeAppList)"
   ]
  },
  {
   "cell_type": "code",
   "execution_count": 42,
   "id": "cc48c086",
   "metadata": {},
   "outputs": [
    {
     "data": {
      "text/plain": [
       "721"
      ]
     },
     "execution_count": 42,
     "metadata": {},
     "output_type": "execute_result"
    }
   ],
   "source": [
    "len(skippedAppList) "
   ]
  },
  {
   "cell_type": "code",
   "execution_count": 43,
   "id": "9f1d1af1",
   "metadata": {},
   "outputs": [
    {
     "data": {
      "text/plain": [
       "4553"
      ]
     },
     "execution_count": 43,
     "metadata": {},
     "output_type": "execute_result"
    }
   ],
   "source": [
    "len(completeAppList) + len(skippedAppList)"
   ]
  },
  {
   "cell_type": "code",
   "execution_count": null,
   "id": "18f33977",
   "metadata": {},
   "outputs": [],
   "source": []
  },
  {
   "cell_type": "code",
   "execution_count": 9,
   "id": "65c91769",
   "metadata": {},
   "outputs": [
    {
     "name": "stdout",
     "output_type": "stream",
     "text": [
      "good catalog: 4427\n",
      "good MCMC fit: 401\n",
      "good box fit: 34\n",
      "hand fit: 480\n",
      "can't see transit: 518\n"
     ]
    }
   ],
   "source": [
    "ephemLabels = pd.read_csv(\"ephem.labels.csv\", names = [\"toiNum\", \"label\"])\n",
    "catEphem = []\n",
    "fitEphem = []\n",
    "boxEphem = []\n",
    "handFit = []\n",
    "noInfo = []\n",
    "problemPeriod = []\n",
    "for i, row in ephemLabels.iterrows():\n",
    "    if row[\"label\"] == \"C\":\n",
    "        catEphem.append(row[\"toiNum\"])\n",
    "    if row[\"label\"] == \"F\":\n",
    "        fitEphem.append(row[\"toiNum\"])        \n",
    "    if row[\"label\"] == \"B\":\n",
    "        boxEphem.append(row[\"toiNum\"])        \n",
    "    if row[\"label\"] == \"H\":\n",
    "        handFit.append(row[\"toiNum\"])        \n",
    "    if row[\"label\"] == \"N\":\n",
    "        noInfo.append(row[\"toiNum\"])        \n",
    "    if row[\"label\"] == \"P\":\n",
    "        problemPeriod.append(row[\"toiNum\"])        \n",
    "\n",
    "print(\"good catalog: \" + str(len(catEphem)))\n",
    "print(\"good MCMC fit: \" + str(len(fitEphem)))\n",
    "print(\"good box fit: \" + str(len(boxEphem)))\n",
    "print(\"hand fit: \" + str(len(handFit)))\n",
    "print(\"can't see transit: \" + str(len(noInfo)))\n"
   ]
  },
  {
   "cell_type": "code",
   "execution_count": 6,
   "id": "3b063be6",
   "metadata": {},
   "outputs": [],
   "source": [
    "# f = open(\"appAccounting.pickle\", \"wb\")\n",
    "# pickle.dump([completeAppList, skippedAppList], f, pickle.HIGHEST_PROTOCOL)\n",
    "# f.close()"
   ]
  },
  {
   "cell_type": "code",
   "execution_count": null,
   "id": "69af0622",
   "metadata": {},
   "outputs": [],
   "source": []
  },
  {
   "cell_type": "code",
   "execution_count": 7,
   "id": "810546d7",
   "metadata": {},
   "outputs": [],
   "source": [
    "# hordTois = []\n",
    "# with open(\"hordTois.txt\") as file:\n",
    "#     while (line := file.readline().rstrip()):\n",
    "#         hordTois.append(float(line.split(\"-\")[1]))\n",
    "\n",
    "# hordDone = list(set(hordTois).intersection(completeAppList))\n",
    "# hordSkipped = list(set(hordTois).intersection(skippedAppList))\n",
    "# hordToBeDone = list(set(hordTois).difference(set(completeAppList).union(skippedAppList)))\n",
    "\n",
    "# [len(hordDone), len(hordSkipped), len(hordToBeDone)]"
   ]
  },
  {
   "cell_type": "code",
   "execution_count": 8,
   "id": "b8640c36",
   "metadata": {},
   "outputs": [],
   "source": [
    "# np.sort(hordDone)"
   ]
  },
  {
   "cell_type": "code",
   "execution_count": 9,
   "id": "a0381078",
   "metadata": {},
   "outputs": [],
   "source": [
    "# hordSkipped"
   ]
  },
  {
   "cell_type": "code",
   "execution_count": 10,
   "id": "c8cac2ba",
   "metadata": {},
   "outputs": [],
   "source": [
    "# hordToBeDone"
   ]
  },
  {
   "cell_type": "code",
   "execution_count": 11,
   "id": "d2cdb8c3",
   "metadata": {},
   "outputs": [],
   "source": [
    "# for t in hordToBeDone:\n",
    "#     filename = str(t) + \"_ephemFit.png\"\n",
    "#     os.system(\"cp ephemFits/\" + filename + \" hordFits/\")"
   ]
  },
  {
   "cell_type": "code",
   "execution_count": 12,
   "id": "6c5030eb",
   "metadata": {},
   "outputs": [
    {
     "name": "stdout",
     "output_type": "stream",
     "text": [
      "odd\n"
     ]
    }
   ],
   "source": [
    "if int(235.01)%2 == 0:\n",
    "    print(\"even\")\n",
    "else:\n",
    "    print(\"odd\")"
   ]
  },
  {
   "cell_type": "code",
   "execution_count": null,
   "id": "9496a003",
   "metadata": {},
   "outputs": [],
   "source": []
  }
 ],
 "metadata": {
  "kernelspec": {
   "display_name": "Python 3 (ipykernel)",
   "language": "python",
   "name": "python3"
  },
  "language_info": {
   "codemirror_mode": {
    "name": "ipython",
    "version": 3
   },
   "file_extension": ".py",
   "mimetype": "text/x-python",
   "name": "python",
   "nbconvert_exporter": "python",
   "pygments_lexer": "ipython3",
   "version": "3.9.7"
  }
 },
 "nbformat": 4,
 "nbformat_minor": 5
}
